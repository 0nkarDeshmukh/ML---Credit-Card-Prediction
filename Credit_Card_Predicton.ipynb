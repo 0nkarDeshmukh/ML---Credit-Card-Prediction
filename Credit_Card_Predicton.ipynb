{
 "cells": [
  {
   "cell_type": "markdown",
   "id": "4fa1dbb0-4c41-4f0e-a45a-2e00d22bb639",
   "metadata": {},
   "source": [
    "#### We are given a bank dataset in which columns are age\tjob\tmarital\teducation\tdefault\tbalance\thousing\tloan\tcontact\tday\tmonth\tduration\tcampaign\tpdays\tprevious\tpoutcome\tdeposit\n",
    "\n",
    "#### Deposit is the target and it is in binary format Yes-No\n",
    "\n",
    "#### We will use classification Algorithms to Make our model\n",
    "\n",
    "###  Step1 - EDA\n",
    "###  Step2 - Data Preprocessing\n",
    "###  Step3 - Creating Model\n",
    "###  Step4 - Checking Model Accuracy"
   ]
  },
  {
   "cell_type": "code",
   "execution_count": null,
   "id": "4d8d381d-124c-4bd1-9087-e80d9b510786",
   "metadata": {},
   "outputs": [],
   "source": []
  },
  {
   "cell_type": "code",
   "execution_count": 1,
   "id": "9a23a175-036b-492a-95c3-d14a1aebdb94",
   "metadata": {},
   "outputs": [],
   "source": [
    "import pandas as pd\n",
    "import numpy as np\n",
    "import matplotlib.pyplot as plt\n",
    "import seaborn as sns\n",
    "from pandas_profiling import ProfileReport\n"
   ]
  },
  {
   "cell_type": "code",
   "execution_count": 2,
   "id": "60d09ed0-68f2-4ca8-bf6e-7fe3d603a142",
   "metadata": {},
   "outputs": [],
   "source": [
    "df = pd.read_csv(r\"C:\\Users\\Onkar\\My_Python_Workspace\\Machine_Learning_Class_Notes\\bank.csv\")"
   ]
  },
  {
   "cell_type": "code",
   "execution_count": 3,
   "id": "80685991-fe53-49a8-91f1-b2d48ec03e24",
   "metadata": {},
   "outputs": [
    {
     "data": {
      "text/html": [
       "<div>\n",
       "<style scoped>\n",
       "    .dataframe tbody tr th:only-of-type {\n",
       "        vertical-align: middle;\n",
       "    }\n",
       "\n",
       "    .dataframe tbody tr th {\n",
       "        vertical-align: top;\n",
       "    }\n",
       "\n",
       "    .dataframe thead th {\n",
       "        text-align: right;\n",
       "    }\n",
       "</style>\n",
       "<table border=\"1\" class=\"dataframe\">\n",
       "  <thead>\n",
       "    <tr style=\"text-align: right;\">\n",
       "      <th></th>\n",
       "      <th>age</th>\n",
       "      <th>job</th>\n",
       "      <th>marital</th>\n",
       "      <th>education</th>\n",
       "      <th>default</th>\n",
       "      <th>balance</th>\n",
       "      <th>housing</th>\n",
       "      <th>loan</th>\n",
       "      <th>contact</th>\n",
       "      <th>day</th>\n",
       "      <th>month</th>\n",
       "      <th>duration</th>\n",
       "      <th>campaign</th>\n",
       "      <th>pdays</th>\n",
       "      <th>previous</th>\n",
       "      <th>poutcome</th>\n",
       "      <th>deposit</th>\n",
       "    </tr>\n",
       "  </thead>\n",
       "  <tbody>\n",
       "    <tr>\n",
       "      <th>0</th>\n",
       "      <td>59</td>\n",
       "      <td>admin.</td>\n",
       "      <td>married</td>\n",
       "      <td>secondary</td>\n",
       "      <td>no</td>\n",
       "      <td>2343</td>\n",
       "      <td>yes</td>\n",
       "      <td>no</td>\n",
       "      <td>unknown</td>\n",
       "      <td>5</td>\n",
       "      <td>may</td>\n",
       "      <td>1042</td>\n",
       "      <td>1</td>\n",
       "      <td>-1</td>\n",
       "      <td>0</td>\n",
       "      <td>unknown</td>\n",
       "      <td>yes</td>\n",
       "    </tr>\n",
       "    <tr>\n",
       "      <th>1</th>\n",
       "      <td>56</td>\n",
       "      <td>admin.</td>\n",
       "      <td>married</td>\n",
       "      <td>secondary</td>\n",
       "      <td>no</td>\n",
       "      <td>45</td>\n",
       "      <td>no</td>\n",
       "      <td>no</td>\n",
       "      <td>unknown</td>\n",
       "      <td>5</td>\n",
       "      <td>may</td>\n",
       "      <td>1467</td>\n",
       "      <td>1</td>\n",
       "      <td>-1</td>\n",
       "      <td>0</td>\n",
       "      <td>unknown</td>\n",
       "      <td>yes</td>\n",
       "    </tr>\n",
       "    <tr>\n",
       "      <th>2</th>\n",
       "      <td>41</td>\n",
       "      <td>technician</td>\n",
       "      <td>married</td>\n",
       "      <td>secondary</td>\n",
       "      <td>no</td>\n",
       "      <td>1270</td>\n",
       "      <td>yes</td>\n",
       "      <td>no</td>\n",
       "      <td>unknown</td>\n",
       "      <td>5</td>\n",
       "      <td>may</td>\n",
       "      <td>1389</td>\n",
       "      <td>1</td>\n",
       "      <td>-1</td>\n",
       "      <td>0</td>\n",
       "      <td>unknown</td>\n",
       "      <td>yes</td>\n",
       "    </tr>\n",
       "    <tr>\n",
       "      <th>3</th>\n",
       "      <td>55</td>\n",
       "      <td>services</td>\n",
       "      <td>married</td>\n",
       "      <td>secondary</td>\n",
       "      <td>no</td>\n",
       "      <td>2476</td>\n",
       "      <td>yes</td>\n",
       "      <td>no</td>\n",
       "      <td>unknown</td>\n",
       "      <td>5</td>\n",
       "      <td>may</td>\n",
       "      <td>579</td>\n",
       "      <td>1</td>\n",
       "      <td>-1</td>\n",
       "      <td>0</td>\n",
       "      <td>unknown</td>\n",
       "      <td>yes</td>\n",
       "    </tr>\n",
       "    <tr>\n",
       "      <th>4</th>\n",
       "      <td>54</td>\n",
       "      <td>admin.</td>\n",
       "      <td>married</td>\n",
       "      <td>tertiary</td>\n",
       "      <td>no</td>\n",
       "      <td>184</td>\n",
       "      <td>no</td>\n",
       "      <td>no</td>\n",
       "      <td>unknown</td>\n",
       "      <td>5</td>\n",
       "      <td>may</td>\n",
       "      <td>673</td>\n",
       "      <td>2</td>\n",
       "      <td>-1</td>\n",
       "      <td>0</td>\n",
       "      <td>unknown</td>\n",
       "      <td>yes</td>\n",
       "    </tr>\n",
       "  </tbody>\n",
       "</table>\n",
       "</div>"
      ],
      "text/plain": [
       "   age         job  marital  education default  balance housing loan  contact  \\\n",
       "0   59      admin.  married  secondary      no     2343     yes   no  unknown   \n",
       "1   56      admin.  married  secondary      no       45      no   no  unknown   \n",
       "2   41  technician  married  secondary      no     1270     yes   no  unknown   \n",
       "3   55    services  married  secondary      no     2476     yes   no  unknown   \n",
       "4   54      admin.  married   tertiary      no      184      no   no  unknown   \n",
       "\n",
       "   day month  duration  campaign  pdays  previous poutcome deposit  \n",
       "0    5   may      1042         1     -1         0  unknown     yes  \n",
       "1    5   may      1467         1     -1         0  unknown     yes  \n",
       "2    5   may      1389         1     -1         0  unknown     yes  \n",
       "3    5   may       579         1     -1         0  unknown     yes  \n",
       "4    5   may       673         2     -1         0  unknown     yes  "
      ]
     },
     "execution_count": 3,
     "metadata": {},
     "output_type": "execute_result"
    }
   ],
   "source": [
    "df.head()"
   ]
  },
  {
   "cell_type": "code",
   "execution_count": 4,
   "id": "37e7a02a-0529-454d-a0c6-5fd075b8cfea",
   "metadata": {},
   "outputs": [
    {
     "name": "stdout",
     "output_type": "stream",
     "text": [
      "<class 'pandas.core.frame.DataFrame'>\n",
      "RangeIndex: 11162 entries, 0 to 11161\n",
      "Data columns (total 17 columns):\n",
      " #   Column     Non-Null Count  Dtype \n",
      "---  ------     --------------  ----- \n",
      " 0   age        11162 non-null  int64 \n",
      " 1   job        11162 non-null  object\n",
      " 2   marital    11162 non-null  object\n",
      " 3   education  11162 non-null  object\n",
      " 4   default    11162 non-null  object\n",
      " 5   balance    11162 non-null  int64 \n",
      " 6   housing    11162 non-null  object\n",
      " 7   loan       11162 non-null  object\n",
      " 8   contact    11162 non-null  object\n",
      " 9   day        11162 non-null  int64 \n",
      " 10  month      11162 non-null  object\n",
      " 11  duration   11162 non-null  int64 \n",
      " 12  campaign   11162 non-null  int64 \n",
      " 13  pdays      11162 non-null  int64 \n",
      " 14  previous   11162 non-null  int64 \n",
      " 15  poutcome   11162 non-null  object\n",
      " 16  deposit    11162 non-null  object\n",
      "dtypes: int64(7), object(10)\n",
      "memory usage: 1.4+ MB\n"
     ]
    }
   ],
   "source": [
    "#Checking for null values and getting idea about the data\n",
    "df.info()"
   ]
  },
  {
   "cell_type": "code",
   "execution_count": null,
   "id": "c284e24f-0f91-429b-b7c6-b631aea8c91e",
   "metadata": {
    "tags": []
   },
   "outputs": [],
   "source": [
    "#Pandas Profiling\n",
    "profile = ProfileReport(df)\n",
    "profile.to_notebook_iframe()"
   ]
  },
  {
   "cell_type": "code",
   "execution_count": 5,
   "id": "c41c78ee-c6f5-4c89-9e04-70030cd4e1d9",
   "metadata": {
    "tags": []
   },
   "outputs": [],
   "source": [
    "#Creating a Preprocessing function to transform out dataset\n",
    "def preprocessing(df_fun):\n",
    "    #Removing Irrelevant and correlated Columns \n",
    "    #contact - Irrelevant\n",
    "    #day and month - not necessary as we have duration\n",
    "    #pdays is highly correlated with poutcome\n",
    "    #previous is highly correlated with pdays\n",
    "        #Lets Drop previous and poutcome and keep pdays\n",
    "    df_fun.drop(['contact','day','month','previous','poutcome'],axis=1,inplace=True)\n",
    "    df_fun['deposit'] = df_fun['deposit'].map({'yes':1,'no':0})\n",
    "    return df_fun\n",
    "    "
   ]
  },
  {
   "cell_type": "code",
   "execution_count": 6,
   "id": "f724d413-2fb2-49a7-adaa-2b9290fbb2a9",
   "metadata": {},
   "outputs": [],
   "source": [
    "df_copy = df.copy()\n",
    "processed_df = preprocessing(df_copy)"
   ]
  },
  {
   "cell_type": "code",
   "execution_count": 7,
   "id": "262fee05-e423-4da7-9c55-5e3a0e5ca6bc",
   "metadata": {},
   "outputs": [
    {
     "data": {
      "text/html": [
       "<div>\n",
       "<style scoped>\n",
       "    .dataframe tbody tr th:only-of-type {\n",
       "        vertical-align: middle;\n",
       "    }\n",
       "\n",
       "    .dataframe tbody tr th {\n",
       "        vertical-align: top;\n",
       "    }\n",
       "\n",
       "    .dataframe thead th {\n",
       "        text-align: right;\n",
       "    }\n",
       "</style>\n",
       "<table border=\"1\" class=\"dataframe\">\n",
       "  <thead>\n",
       "    <tr style=\"text-align: right;\">\n",
       "      <th></th>\n",
       "      <th>age</th>\n",
       "      <th>job</th>\n",
       "      <th>marital</th>\n",
       "      <th>education</th>\n",
       "      <th>default</th>\n",
       "      <th>balance</th>\n",
       "      <th>housing</th>\n",
       "      <th>loan</th>\n",
       "      <th>duration</th>\n",
       "      <th>campaign</th>\n",
       "      <th>pdays</th>\n",
       "      <th>deposit</th>\n",
       "    </tr>\n",
       "  </thead>\n",
       "  <tbody>\n",
       "    <tr>\n",
       "      <th>0</th>\n",
       "      <td>59</td>\n",
       "      <td>admin.</td>\n",
       "      <td>married</td>\n",
       "      <td>secondary</td>\n",
       "      <td>no</td>\n",
       "      <td>2343</td>\n",
       "      <td>yes</td>\n",
       "      <td>no</td>\n",
       "      <td>1042</td>\n",
       "      <td>1</td>\n",
       "      <td>-1</td>\n",
       "      <td>1</td>\n",
       "    </tr>\n",
       "    <tr>\n",
       "      <th>1</th>\n",
       "      <td>56</td>\n",
       "      <td>admin.</td>\n",
       "      <td>married</td>\n",
       "      <td>secondary</td>\n",
       "      <td>no</td>\n",
       "      <td>45</td>\n",
       "      <td>no</td>\n",
       "      <td>no</td>\n",
       "      <td>1467</td>\n",
       "      <td>1</td>\n",
       "      <td>-1</td>\n",
       "      <td>1</td>\n",
       "    </tr>\n",
       "    <tr>\n",
       "      <th>2</th>\n",
       "      <td>41</td>\n",
       "      <td>technician</td>\n",
       "      <td>married</td>\n",
       "      <td>secondary</td>\n",
       "      <td>no</td>\n",
       "      <td>1270</td>\n",
       "      <td>yes</td>\n",
       "      <td>no</td>\n",
       "      <td>1389</td>\n",
       "      <td>1</td>\n",
       "      <td>-1</td>\n",
       "      <td>1</td>\n",
       "    </tr>\n",
       "    <tr>\n",
       "      <th>3</th>\n",
       "      <td>55</td>\n",
       "      <td>services</td>\n",
       "      <td>married</td>\n",
       "      <td>secondary</td>\n",
       "      <td>no</td>\n",
       "      <td>2476</td>\n",
       "      <td>yes</td>\n",
       "      <td>no</td>\n",
       "      <td>579</td>\n",
       "      <td>1</td>\n",
       "      <td>-1</td>\n",
       "      <td>1</td>\n",
       "    </tr>\n",
       "    <tr>\n",
       "      <th>4</th>\n",
       "      <td>54</td>\n",
       "      <td>admin.</td>\n",
       "      <td>married</td>\n",
       "      <td>tertiary</td>\n",
       "      <td>no</td>\n",
       "      <td>184</td>\n",
       "      <td>no</td>\n",
       "      <td>no</td>\n",
       "      <td>673</td>\n",
       "      <td>2</td>\n",
       "      <td>-1</td>\n",
       "      <td>1</td>\n",
       "    </tr>\n",
       "  </tbody>\n",
       "</table>\n",
       "</div>"
      ],
      "text/plain": [
       "   age         job  marital  education default  balance housing loan  \\\n",
       "0   59      admin.  married  secondary      no     2343     yes   no   \n",
       "1   56      admin.  married  secondary      no       45      no   no   \n",
       "2   41  technician  married  secondary      no     1270     yes   no   \n",
       "3   55    services  married  secondary      no     2476     yes   no   \n",
       "4   54      admin.  married   tertiary      no      184      no   no   \n",
       "\n",
       "   duration  campaign  pdays  deposit  \n",
       "0      1042         1     -1        1  \n",
       "1      1467         1     -1        1  \n",
       "2      1389         1     -1        1  \n",
       "3       579         1     -1        1  \n",
       "4       673         2     -1        1  "
      ]
     },
     "execution_count": 7,
     "metadata": {},
     "output_type": "execute_result"
    }
   ],
   "source": [
    "processed_df.head()"
   ]
  },
  {
   "cell_type": "markdown",
   "id": "00d50e0e-dae5-4ece-a4cc-41398014e7a2",
   "metadata": {},
   "source": [
    "# Modelling \n",
    "- Feature and Target values - X, y \n",
    "- One hot encode any categorical features\n",
    "- Train, holdout split\n",
    "- Train on a bunch of algos"
   ]
  },
  {
   "cell_type": "code",
   "execution_count": 8,
   "id": "a6aaf1cb-340c-469d-9a90-b0d02262793e",
   "metadata": {},
   "outputs": [],
   "source": [
    "from sklearn.model_selection import train_test_split\n",
    "from sklearn.pipeline import make_pipeline\n",
    "from sklearn.preprocessing import StandardScaler"
   ]
  },
  {
   "cell_type": "code",
   "execution_count": 9,
   "id": "b39cbcb2-6543-48ed-84d2-33af123aa199",
   "metadata": {},
   "outputs": [],
   "source": [
    "# Create feature columns\n",
    "# Drop identifier column\n",
    "X = processed_df.drop('deposit', axis=1)\n",
    "# One hot encode\n",
    "X = pd.get_dummies(X)\n",
    "# Create target columns\n",
    "y = processed_df['deposit']"
   ]
  },
  {
   "cell_type": "code",
   "execution_count": 10,
   "id": "00a16116-fa61-49e0-95e3-f1f091404216",
   "metadata": {},
   "outputs": [],
   "source": [
    "#Creating train test splitting\n",
    "X_train, X_test, y_train, y_test = train_test_split(X,y,test_size=0.2,random_state=1234)"
   ]
  },
  {
   "cell_type": "markdown",
   "id": "5d08ee96-01a8-498a-a006-b032efe4f974",
   "metadata": {},
   "source": [
    "### Setup ML Pipelines"
   ]
  },
  {
   "cell_type": "code",
   "execution_count": 11,
   "id": "0a0e2b99-c0e9-44e1-b255-1c44481452a1",
   "metadata": {},
   "outputs": [],
   "source": [
    "from sklearn.model_selection import GridSearchCV\n",
    "from sklearn.ensemble import RandomForestClassifier, GradientBoostingClassifier\n",
    "from sklearn.tree import DecisionTreeClassifier"
   ]
  },
  {
   "cell_type": "code",
   "execution_count": 12,
   "id": "9d2a53d2-de49-42de-b183-52d5ec0c03be",
   "metadata": {},
   "outputs": [],
   "source": [
    "pipelines = {\n",
    "    'rf' : make_pipeline(StandardScaler(), RandomForestClassifier(random_state=1234)),\n",
    "    'gb' : make_pipeline(StandardScaler(), GradientBoostingClassifier(random_state=1234)),\n",
    "    # 'dt' : make_pipeline(StandardScaler(), DecisionTreeClassifier(random_state=1234))\n",
    "}"
   ]
  },
  {
   "cell_type": "code",
   "execution_count": 13,
   "id": "904a11bb-f511-446e-a01a-5d296796548f",
   "metadata": {},
   "outputs": [
    {
     "data": {
      "text/plain": [
       "{'bootstrap': True,\n",
       " 'ccp_alpha': 0.0,\n",
       " 'class_weight': None,\n",
       " 'criterion': 'gini',\n",
       " 'max_depth': None,\n",
       " 'max_features': 'auto',\n",
       " 'max_leaf_nodes': None,\n",
       " 'max_samples': None,\n",
       " 'min_impurity_decrease': 0.0,\n",
       " 'min_samples_leaf': 1,\n",
       " 'min_samples_split': 2,\n",
       " 'min_weight_fraction_leaf': 0.0,\n",
       " 'n_estimators': 100,\n",
       " 'n_jobs': None,\n",
       " 'oob_score': False,\n",
       " 'random_state': None,\n",
       " 'verbose': 0,\n",
       " 'warm_start': False}"
      ]
     },
     "execution_count": 13,
     "metadata": {},
     "output_type": "execute_result"
    }
   ],
   "source": [
    "RandomForestClassifier().get_params()"
   ]
  },
  {
   "cell_type": "code",
   "execution_count": 14,
   "id": "101fec35-3aae-4985-bc65-30b79cb97fbb",
   "metadata": {},
   "outputs": [],
   "source": [
    "grid = {\n",
    "    'rf': {\n",
    "        'randomforestclassifier__n_estimators':[100,200,300]\n",
    "        \n",
    "    },\n",
    "    'gb':{\n",
    "        'gradientboostingclassifier__n_estimators':[100,200,300]\n",
    "    } \n",
    "}"
   ]
  },
  {
   "cell_type": "code",
   "execution_count": 15,
   "id": "4764aa25-0b85-43e8-b003-2778ba15a31d",
   "metadata": {},
   "outputs": [
    {
     "data": {
      "text/plain": [
       "dict_items([('rf', Pipeline(steps=[('standardscaler', StandardScaler()),\n",
       "                ('randomforestclassifier',\n",
       "                 RandomForestClassifier(random_state=1234))])), ('gb', Pipeline(steps=[('standardscaler', StandardScaler()),\n",
       "                ('gradientboostingclassifier',\n",
       "                 GradientBoostingClassifier(random_state=1234))]))])"
      ]
     },
     "execution_count": 15,
     "metadata": {},
     "output_type": "execute_result"
    }
   ],
   "source": [
    "pipelines.items()"
   ]
  },
  {
   "cell_type": "code",
   "execution_count": 16,
   "id": "04be6262-aef5-4d8f-9029-b8cc2be59b08",
   "metadata": {},
   "outputs": [
    {
     "name": "stdout",
     "output_type": "stream",
     "text": [
      "Training the rf model.\n",
      "Training the gb model.\n"
     ]
    }
   ],
   "source": [
    "# Create a blank dictionary to hold the models \n",
    "fit_models = {}\n",
    "# Loop through all the algos \n",
    "for algo, pipeline in pipelines.items():\n",
    "  print(f'Training the {algo} model.')\n",
    "  # Create new Grid Search CV Cclass \n",
    "  model = GridSearchCV(pipeline, grid[algo], n_jobs=3, cv=10)\n",
    "  # Train the model \n",
    "  model.fit(X_train, y_train)\n",
    "  # Store results inside of the dictionary\n",
    "  fit_models[algo] = model"
   ]
  },
  {
   "cell_type": "markdown",
   "id": "cbe1ecbd-f342-4589-9aa7-9ed12171d66f",
   "metadata": {},
   "source": [
    "## Evaluate Performance on Test Data"
   ]
  },
  {
   "cell_type": "code",
   "execution_count": 17,
   "id": "d423cb74-5089-4e6b-bd58-8bf3eb1a803b",
   "metadata": {},
   "outputs": [],
   "source": [
    "from sklearn.metrics import accuracy_score, precision_score, recall_score"
   ]
  },
  {
   "cell_type": "code",
   "execution_count": 18,
   "id": "3fa52212-81c1-4c4c-815b-abb570f3669a",
   "metadata": {},
   "outputs": [
    {
     "name": "stdout",
     "output_type": "stream",
     "text": [
      "Metrics for rf: accuracy- 0.8016121809225257, recall- 0.8059424326833797, precision- 0.7876588021778584\n",
      "Metrics for gb: accuracy- 0.8172861621137483, recall- 0.8152274837511606, precision- 0.8077276908923643\n"
     ]
    }
   ],
   "source": [
    "# Evaluate the performance of the model \n",
    "for algo, model in fit_models.items(): \n",
    "  yhat = model.predict(X_test)\n",
    "  accuracy = accuracy_score(y_test, yhat)\n",
    "  precision = precision_score(y_test, yhat)\n",
    "  recall = recall_score(y_test, yhat)\n",
    "  print(f'Metrics for {algo}: accuracy- {accuracy}, recall- {recall}, precision- {precision}')"
   ]
  },
  {
   "cell_type": "markdown",
   "id": "4991e218-f589-4179-9fde-163eee937c25",
   "metadata": {},
   "source": [
    "#### GradientBoostingClassifier is giving better results\n"
   ]
  },
  {
   "cell_type": "markdown",
   "id": "7e85f2e1-c925-49a3-a960-5a3ae4f40bec",
   "metadata": {},
   "source": [
    "## Make Predictions"
   ]
  },
  {
   "cell_type": "code",
   "execution_count": 19,
   "id": "d5e8f860-3c2b-4d74-8328-a23e1ff0f7c4",
   "metadata": {},
   "outputs": [],
   "source": [
    "predictions = fit_models['gb'].predict(X_test)"
   ]
  },
  {
   "cell_type": "code",
   "execution_count": 20,
   "id": "d1854c53-947f-4c30-b12c-7392aca3a4ff",
   "metadata": {},
   "outputs": [
    {
     "data": {
      "text/plain": [
       "array([0, 1, 1, ..., 1, 1, 0], dtype=int64)"
      ]
     },
     "execution_count": 20,
     "metadata": {},
     "output_type": "execute_result"
    }
   ],
   "source": [
    "predictions"
   ]
  },
  {
   "cell_type": "code",
   "execution_count": null,
   "id": "4cc3227f-16a5-46f9-a07e-487dc0893fdb",
   "metadata": {},
   "outputs": [],
   "source": []
  }
 ],
 "metadata": {
  "kernelspec": {
   "display_name": "Python 3 (ipykernel)",
   "language": "python",
   "name": "python3"
  },
  "language_info": {
   "codemirror_mode": {
    "name": "ipython",
    "version": 3
   },
   "file_extension": ".py",
   "mimetype": "text/x-python",
   "name": "python",
   "nbconvert_exporter": "python",
   "pygments_lexer": "ipython3",
   "version": "3.9.12"
  }
 },
 "nbformat": 4,
 "nbformat_minor": 5
}
